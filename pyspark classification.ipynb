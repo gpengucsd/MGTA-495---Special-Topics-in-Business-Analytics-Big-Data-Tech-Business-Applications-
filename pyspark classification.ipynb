{
 "cells": [
  {
   "cell_type": "code",
   "execution_count": 1,
   "metadata": {},
   "outputs": [
    {
     "name": "stdout",
     "output_type": "stream",
     "text": [
      "2.3.2\n",
      "<module 'pyspark.version' from '/usr/local/lib/python3.6/dist-packages/pyspark/version.py'>\n"
     ]
    },
    {
     "data": {
      "text/plain": [
       "dict_items([('spark.app.name', 'Spark Data Exploration')])"
      ]
     },
     "execution_count": 1,
     "metadata": {},
     "output_type": "execute_result"
    }
   ],
   "source": [
    "import pyspark\n",
    "import os.path\n",
    "\n",
    "from pyspark import SparkContext\n",
    "from pyspark.sql import SQLContext\n",
    "from pyspark.sql import SparkSession\n",
    "import pyspark.sql.functions as f\n",
    "from getpass import getpass\n",
    "import pandas as pd\n",
    "import pickle\n",
    "conf = pyspark.SparkConf().setAll([('spark.app.name', 'Spark Data Exploration')])\n",
    "spark = SparkSession.builder.config(conf=conf).getOrCreate()\n",
    "\n",
    "print (spark.version)\n",
    "print (pyspark.version)\n",
    "\n",
    "conf.getAll()"
   ]
  },
  {
   "cell_type": "code",
   "execution_count": 2,
   "metadata": {},
   "outputs": [
    {
     "name": "stdout",
     "output_type": "stream",
     "text": [
      "118318\n"
     ]
    }
   ],
   "source": [
    "prA_fpath = 'full_table_new.csv'\n",
    "dfa = spark.read.csv(prA_fpath,inferSchema=True,header=True)\n",
    "rows_countsA = dfa.count()\n",
    "print(rows_countsA)"
   ]
  },
  {
   "cell_type": "code",
   "execution_count": 6,
   "metadata": {},
   "outputs": [
    {
     "data": {
      "image/png": "[encoded data removed]",
      "text/plain": [
       "<Figure size 432x288 with 1 Axes>"
      ]
     },
     "metadata": {
      "needs_background": "light"
     },
     "output_type": "display_data"
    }
   ],
   "source": [
    "import pandas as pd\n",
    "import numpy as np\n",
    "import matplotlib.pyplot as plt\n",
    "from collections import Counter\n",
    "\n",
    "data = pd.read_csv('full_table_new.csv')\n",
    "data = data.dropna()\n",
    "# survey_score stastics and distribution\n",
    "data['survey_score'].describe()\n",
    "# survey_score stastics and distribution\n",
    "data['survey_score'].describe()\n",
    "# survey_score distribution \n",
    "ratings = list(Counter(data['survey_score']).keys()) # get all unique ratings\n",
    "frequency = list(Counter(data['survey_score']).values()) # count the number of each rating\n",
    "plt.bar(ratings,frequency)\n",
    "plt.title('survey_score distribution')\n",
    "plt.xlabel('survey_score')\n",
    "plt.ylabel('frequency')\n",
    "plt.show()\n",
    "\n"
   ]
  },
  {
   "cell_type": "code",
   "execution_count": null,
   "metadata": {},
   "outputs": [],
   "source": [
    "# average payment value in different survey_score\n",
    "a = data.groupby('survey_score').mean()['payment_value'].sort_values()\n",
    "plt.barh(a.index,a)\n",
    "plt.title('average payment value in different survey_score')\n",
    "plt.xlabel('payment value')\n",
    "plt.ylabel('survey_score')\n",
    "plt.show()\n"
   ]
  },
  {
   "cell_type": "code",
   "execution_count": 5,
   "metadata": {},
   "outputs": [
    {
     "data": {
      "image/png": "[encoded data removed]",
      "text/plain": [
       "<Figure size 432x288 with 1 Axes>"
      ]
     },
     "metadata": {
      "needs_background": "light"
     },
     "output_type": "display_data"
    }
   ],
   "source": [
    "#### payment_installments \n",
    "data['payment_install'] = ['0' if i < 1 else '>0' for i in  data['payment_installments']]\n",
    "a = data.groupby('payment_install').mean()['survey_score']\n",
    "plt.bar(a.index,a)\n",
    "plt.title('average survey_score for payment_installments')\n",
    "plt.xlabel('payment_installments')\n",
    "plt.ylabel('survey_score')\n",
    "plt.show()"
   ]
  },
  {
   "cell_type": "code",
   "execution_count": 3,
   "metadata": {},
   "outputs": [
    {
     "name": "stdout",
     "output_type": "stream",
     "text": [
      "root\n",
      " |-- _c0: integer (nullable = true)\n",
      " |-- survey_send_date: string (nullable = true)\n",
      " |-- survey_completion_date: string (nullable = true)\n",
      " |-- order_id: string (nullable = true)\n",
      " |-- order_item_id: integer (nullable = true)\n",
      " |-- product_id: string (nullable = true)\n",
      " |-- seller_id: string (nullable = true)\n",
      " |-- customer_id: string (nullable = true)\n",
      " |-- price: double (nullable = true)\n",
      " |-- freight_value: double (nullable = true)\n",
      " |-- order_status: string (nullable = true)\n",
      " |-- payment_installments: string (nullable = true)\n",
      " |-- payment_value: string (nullable = true)\n",
      " |-- customer_city: string (nullable = true)\n",
      " |-- customer_state: string (nullable = true)\n",
      " |-- product_category_name: string (nullable = true)\n",
      " |-- product_photos_qty: string (nullable = true)\n",
      " |-- product_weight_g: string (nullable = true)\n",
      " |-- product_length_cm: string (nullable = true)\n",
      " |-- product_height_cm: string (nullable = true)\n",
      " |-- product_width_cm: string (nullable = true)\n",
      " |-- product_category_name_english: string (nullable = true)\n",
      " |-- seller_city: string (nullable = true)\n",
      " |-- seller_state: string (nullable = true)\n",
      " |-- survey_score: string (nullable = true)\n",
      "\n"
     ]
    }
   ],
   "source": [
    "dfa.printSchema()"
   ]
  },
  {
   "cell_type": "code",
   "execution_count": 3,
   "metadata": {},
   "outputs": [],
   "source": [
    "#change data type\n",
    "from pyspark.sql.types import IntegerType,DoubleType\n",
    "dfa = dfa.withColumn(\"price\", dfa[\"price\"].cast(IntegerType()))\n",
    "dfa = dfa.withColumn(\"freight_value\", dfa[\"freight_value\"].cast(IntegerType()))\n",
    "dfa = dfa.withColumn(\"payment_installments\", dfa[\"payment_installments\"].cast(IntegerType()))\n",
    "dfa = dfa.withColumn(\"payment_value\", dfa[\"payment_value\"].cast(IntegerType()))\n",
    "dfa = dfa.withColumn(\"product_weight_g\", dfa[\"product_weight_g\"].cast(IntegerType()))\n",
    "dfa = dfa.withColumn(\"product_length_cm\", dfa[\"product_length_cm\"].cast(IntegerType()))\n",
    "dfa = dfa.withColumn(\"product_height_cm\", dfa[\"product_height_cm\"].cast(IntegerType()))\n",
    "dfa = dfa.withColumn(\"product_width_cm\", dfa[\"product_width_cm\"].cast(IntegerType()))\n",
    "dfa = dfa.withColumn(\"survey_score\", dfa[\"survey_score\"].cast(IntegerType()))"
   ]
  },
  {
   "cell_type": "code",
   "execution_count": 4,
   "metadata": {},
   "outputs": [],
   "source": [
    "col= dfa.columns\n",
    "col = col[:-1]\n",
    "dfa_new = dfa.na.drop(subset=col)"
   ]
  },
  {
   "cell_type": "code",
   "execution_count": 5,
   "metadata": {},
   "outputs": [],
   "source": [
    "#one hot encoding \n",
    "import pyspark.sql.functions as F\n",
    "featureCols = [\n",
    " 'price',\n",
    " 'freight_value',\n",
    "'payment_installments',\n",
    " 'payment_value',\n",
    " 'product_weight_g',\n",
    " 'product_length_cm',\n",
    " 'product_height_cm',\n",
    " 'product_width_cm',\n",
    " 'survey_score']\n",
    "types_order = dfa_new.select('order_status').distinct().rdd.flatMap(lambda x: x).collect()\n",
    "types_orde = [F.when(F.col(\"order_status\") == ty, 1).otherwise(0).alias(\"order_status_\" + ty) for ty in types_order]\n",
    "types_customer = dfa_new.select('customer_state').distinct().rdd.flatMap(lambda x: x).collect()\n",
    "types_cust = [F.when(F.col(\"customer_state\") == cs, 1).otherwise(0).alias(\"customer_state_\" + cs) for cs in types_customer]\n",
    "types_state = dfa_new.select('seller_state').distinct().rdd.flatMap(lambda x: x).collect()\n",
    "types_sta = [F.when(F.col(\"seller_state\") == ss, 1).otherwise(0).alias(\"seller_state_\" + ss) for ss in types_state]\n",
    "dfa_new = dfa_new.select('price',\n",
    " 'freight_value',\n",
    "'payment_installments',\n",
    " 'payment_value',\n",
    " 'product_weight_g',\n",
    " 'product_length_cm',\n",
    " 'product_height_cm',\n",
    " 'product_width_cm',\n",
    " 'survey_score',*types_orde+types_cust+types_sta)\n"
   ]
  },
  {
   "cell_type": "code",
   "execution_count": 6,
   "metadata": {},
   "outputs": [
    {
     "name": "stdout",
     "output_type": "stream",
     "text": [
      "116605 98210 5\n"
     ]
    }
   ],
   "source": [
    "#cleaning NA data \n",
    "dfa_test = dfa_new.filter('survey_score is NULL')\n",
    "dfa_train =  dfa_new.subtract(dfa_test)\n",
    "print(dfa_new.count(),dfa_train.count(),dfa_test.count())"
   ]
  },
  {
   "cell_type": "code",
   "execution_count": 7,
   "metadata": {},
   "outputs": [],
   "source": [
    "#balancing data\n",
    "dfa_use = dfa_train.filter('survey_score == 5')\n",
    "dfa_use_left =  dfa_train.subtract(dfa_use)\n",
    "actual_number  = dfa_train.filter('survey_score == 5').count()\n",
    "balance_number = dfa_train.filter('survey_score == 4').count()\n",
    "actual_number_1 =dfa_train.filter('survey_score == 1').count()\n",
    "actual_number_2 =dfa_train.filter('survey_score == 2').count()\n",
    "actual_number_3 =dfa_train.filter('survey_score == 3').count()\n",
    "dfa_5 = dfa_use.sample(True, balance_number/actual_number, 1234)\n",
    "dfa_1 = dfa_train.filter('survey_score == 1').sample(True,balance_number/actual_number_1,1234)\n",
    "dfa_2 = dfa_train.filter('survey_score == 2').sample(True,balance_number/actual_number_2,1234)\n",
    "dfa_3 = dfa_train.filter('survey_score == 3').sample(True,balance_number/actual_number_3,1234)\n",
    "dfa_4 = dfa_train.filter('survey_score == 4')\n",
    "dfa_train_merge= dfa_1.union(dfa_2).union(dfa_3).union(dfa_4).union(dfa_5)\n"
   ]
  },
  {
   "cell_type": "code",
   "execution_count": 54,
   "metadata": {},
   "outputs": [
    {
     "data": {
      "text/plain": [
       "array([[<matplotlib.axes._subplots.AxesSubplot object at 0x7f60f5573ac8>]],\n",
       "      dtype=object)"
      ]
     },
     "execution_count": 54,
     "metadata": {},
     "output_type": "execute_result"
    },
    {
     "data": {
      "image/png": "[encoded data removed]",
      "text/plain": [
       "<Figure size 576x396 with 1 Axes>"
      ]
     },
     "metadata": {},
     "output_type": "display_data"
    }
   ],
   "source": [
    "#plot\n",
    "dfa_train_merge.select('survey_score') .toPandas().hist()"
   ]
  },
  {
   "cell_type": "code",
   "execution_count": 8,
   "metadata": {},
   "outputs": [
    {
     "name": "stdout",
     "output_type": "stream",
     "text": [
      "Bucketizer output with 3 buckets\n",
      "+-------+------------------+\n",
      "|summary|  bucketedFeatures|\n",
      "+-------+------------------+\n",
      "|  count|             95576|\n",
      "|   mean|1.0007324014396919|\n",
      "| stddev|0.8942982041044789|\n",
      "|    min|               0.0|\n",
      "|    max|               2.0|\n",
      "+-------+------------------+\n",
      "\n",
      "root\n",
      " |-- price: integer (nullable = true)\n",
      " |-- freight_value: integer (nullable = true)\n",
      " |-- payment_installments: integer (nullable = true)\n",
      " |-- payment_value: integer (nullable = true)\n",
      " |-- product_weight_g: integer (nullable = true)\n",
      " |-- product_length_cm: integer (nullable = true)\n",
      " |-- product_height_cm: integer (nullable = true)\n",
      " |-- product_width_cm: integer (nullable = true)\n",
      " |-- order_status_shipped: integer (nullable = false)\n",
      " |-- order_status_canceled: integer (nullable = false)\n",
      " |-- order_status_approved: integer (nullable = false)\n",
      " |-- order_status_invoiced: integer (nullable = false)\n",
      " |-- order_status_delivered: integer (nullable = false)\n",
      " |-- order_status_unavailable: integer (nullable = false)\n",
      " |-- order_status_processing: integer (nullable = false)\n",
      " |-- customer_state_SC: integer (nullable = false)\n",
      " |-- customer_state_RO: integer (nullable = false)\n",
      " |-- customer_state_PI: integer (nullable = false)\n",
      " |-- customer_state_AM: integer (nullable = false)\n",
      " |-- customer_state_RR: integer (nullable = false)\n",
      " |-- customer_state_GO: integer (nullable = false)\n",
      " |-- customer_state_TO: integer (nullable = false)\n",
      " |-- customer_state_MT: integer (nullable = false)\n",
      " |-- customer_state_SP: integer (nullable = false)\n",
      " |-- customer_state_ES: integer (nullable = false)\n",
      " |-- customer_state_PB: integer (nullable = false)\n",
      " |-- customer_state_RS: integer (nullable = false)\n",
      " |-- customer_state_MS: integer (nullable = false)\n",
      " |-- customer_state_AL: integer (nullable = false)\n",
      " |-- customer_state_MG: integer (nullable = false)\n",
      " |-- customer_state_PA: integer (nullable = false)\n",
      " |-- customer_state_BA: integer (nullable = false)\n",
      " |-- customer_state_SE: integer (nullable = false)\n",
      " |-- customer_state_PE: integer (nullable = false)\n",
      " |-- customer_state_CE: integer (nullable = false)\n",
      " |-- customer_state_RN: integer (nullable = false)\n",
      " |-- customer_state_RJ: integer (nullable = false)\n",
      " |-- customer_state_MA: integer (nullable = false)\n",
      " |-- customer_state_AC: integer (nullable = false)\n",
      " |-- customer_state_DF: integer (nullable = false)\n",
      " |-- customer_state_PR: integer (nullable = false)\n",
      " |-- customer_state_AP: integer (nullable = false)\n",
      " |-- seller_state_SC: integer (nullable = false)\n",
      " |-- seller_state_RO: integer (nullable = false)\n",
      " |-- seller_state_PI: integer (nullable = false)\n",
      " |-- seller_state_AM: integer (nullable = false)\n",
      " |-- seller_state_GO: integer (nullable = false)\n",
      " |-- seller_state_MT: integer (nullable = false)\n",
      " |-- seller_state_SP: integer (nullable = false)\n",
      " |-- seller_state_ES: integer (nullable = false)\n",
      " |-- seller_state_PB: integer (nullable = false)\n",
      " |-- seller_state_RS: integer (nullable = false)\n",
      " |-- seller_state_MS: integer (nullable = false)\n",
      " |-- seller_state_MG: integer (nullable = false)\n",
      " |-- seller_state_PA: integer (nullable = false)\n",
      " |-- seller_state_BA: integer (nullable = false)\n",
      " |-- seller_state_SE: integer (nullable = false)\n",
      " |-- seller_state_PE: integer (nullable = false)\n",
      " |-- seller_state_CE: integer (nullable = false)\n",
      " |-- seller_state_RN: integer (nullable = false)\n",
      " |-- seller_state_RJ: integer (nullable = false)\n",
      " |-- seller_state_MA: integer (nullable = false)\n",
      " |-- seller_state_AC: integer (nullable = false)\n",
      " |-- seller_state_DF: integer (nullable = false)\n",
      " |-- seller_state_PR: integer (nullable = false)\n",
      " |-- bucketedFeatures: double (nullable = true)\n",
      "\n"
     ]
    }
   ],
   "source": [
    "#create bin based on low,medium,high score\n",
    "from pyspark.ml.feature import Bucketizer\n",
    "\n",
    "\n",
    "splits=[0,2.5,3.5,5]\n",
    "\n",
    "bucketizer = Bucketizer(splits=splits, inputCol=\"survey_score\", outputCol=\"bucketedFeatures\")\n",
    "\n",
    "# Transform original data into its bucket index.\n",
    "bucketedData = bucketizer.transform(dfa_train_merge)\n",
    "\n",
    "print(\"Bucketizer output with %d buckets\" % (len(bucketizer.getSplits())-1))\n",
    "bucketedData=bucketedData.drop('survey_score')\n",
    "\n",
    "bucketedData.describe('bucketedFeatures').show()\n",
    "bucketedData.printSchema()"
   ]
  },
  {
   "cell_type": "code",
   "execution_count": 55,
   "metadata": {},
   "outputs": [
    {
     "name": "stdout",
     "output_type": "stream",
     "text": [
      "Bucketizer output with 5 buckets\n",
      "+-------+------------------+\n",
      "|summary|  bucketedFeatures|\n",
      "+-------+------------------+\n",
      "|  count|             95576|\n",
      "|   mean|2.0010672135264085|\n",
      "| stddev|1.4137321785648105|\n",
      "|    min|               0.0|\n",
      "|    max|               4.0|\n",
      "+-------+------------------+\n",
      "\n"
     ]
    }
   ],
   "source": [
    "#create 5 bins according to the raw data\n",
    "from pyspark.ml.feature import Bucketizer\n",
    "\n",
    "\n",
    "splits=[0,1.5,2.5,3.5,4.5,5]\n",
    "\n",
    "bucketizer = Bucketizer(splits=splits, inputCol=\"survey_score\", outputCol=\"bucketedFeatures\")\n",
    "\n",
    "# Transform original data into its bucket index.\n",
    "bucketedData5 = bucketizer.transform(dfa_train_merge)\n",
    "\n",
    "print(\"Bucketizer output with %d buckets\" % (len(bucketizer.getSplits())-1))\n",
    "bucketedData5=bucketedData5.drop('survey_score')\n",
    "\n",
    "bucketedData5.describe('bucketedFeatures').show()"
   ]
  },
  {
   "cell_type": "code",
   "execution_count": 56,
   "metadata": {},
   "outputs": [],
   "source": [
    "#5 class prediction using RDD randomforest\n",
    "from pyspark.mllib.linalg import Vectors\n",
    "from pyspark.mllib.regression import LabeledPoint\n",
    "\n",
    "transformed_df5 = bucketedData5.rdd.map(lambda row: LabeledPoint(row[-1], Vectors.dense(row[0:-1])))\n",
    "\n",
    "splits = [0.6, 0.4]\n",
    "training_data5, test_data5 = transformed_df5.randomSplit(splits, 1234)\n",
    "\n"
   ]
  },
  {
   "cell_type": "code",
   "execution_count": 57,
   "metadata": {},
   "outputs": [
    {
     "name": "stdout",
     "output_type": "stream",
     "text": [
      "Time to train model: 1021.641 seconds\n"
     ]
    }
   ],
   "source": [
    "from pyspark.mllib.tree import RandomForest\n",
    "from time import *\n",
    "\n",
    "start_time = time()\n",
    "\n",
    "model5 = RandomForest.trainClassifier(training_data5,numClasses= 5 ,categoricalFeaturesInfo={}, \\\n",
    "    numTrees=20, featureSubsetStrategy=\"auto\", maxDepth=15, seed=1234)\n",
    "\n",
    "end_time = time()\n",
    "elapsed_time = end_time - start_time\n",
    "print(\"Time to train model: %.3f seconds\" % elapsed_time)"
   ]
  },
  {
   "cell_type": "code",
   "execution_count": 60,
   "metadata": {},
   "outputs": [
    {
     "name": "stdout",
     "output_type": "stream",
     "text": [
      "Model accuracy: 32.540%\n"
     ]
    }
   ],
   "source": [
    "predictions5 = model5.predict(test_data5.map(lambda x: x.features))\n",
    "labels_and_predictions5 = test_data5.map(lambda x: x.label).zip(predictions5)\n",
    "acc5 = labels_and_predictions5.filter(lambda x: x[0] == x[1]).count() / float(test_data5.count())\n",
    "print(\"Model accuracy: %.3f%%\" % (acc5 * 100))\n",
    "dff5= labels_and_predictions5.toDF()"
   ]
  },
  {
   "cell_type": "code",
   "execution_count": 61,
   "metadata": {},
   "outputs": [
    {
     "name": "stdout",
     "output_type": "stream",
     "text": [
      "Confusion matrix, without normalization\n",
      "[[2595 1091 1270 1027 1568]\n",
      " [ 855 2870 1297  981 1575]\n",
      " [ 987  932 2478 1293 1919]\n",
      " [ 849  984 1724 1633 2536]\n",
      " [ 809  919 1627 1557 2869]]\n"
     ]
    },
    {
     "data": {
      "image/png": "[encoded data removed]",
      "text/plain": [
       "<Figure size 576x396 with 2 Axes>"
      ]
     },
     "metadata": {},
     "output_type": "display_data"
    }
   ],
   "source": [
    "from sklearn.metrics import confusion_matrix\n",
    "from sklearn.metrics import confusion_matrix\n",
    "import matplotlib.pyplot as plt\n",
    "import numpy as np\n",
    "import itertools\n",
    "import matplotlib.pyplot\n",
    "\n",
    "def plot_confusion_matrix(cm, classes,\n",
    "                          normalize=False,\n",
    "                          title='Confusion matrix',\n",
    "                          cmap=plt.cm.Blues):\n",
    "    \"\"\"\n",
    "    This function prints and plots the confusion matrix.\n",
    "    Normalization can be applied by setting `normalize=True`.\n",
    "    \"\"\"\n",
    "    if normalize:\n",
    "        cm = cm.astype('float') / cm.sum(axis=1)[:, np.newaxis]\n",
    "        print(\"Normalized confusion matrix\")\n",
    "    else:\n",
    "        print('Confusion matrix, without normalization')\n",
    "\n",
    "    print(cm)\n",
    "\n",
    "    plt.imshow(cm, interpolation='nearest', cmap=cmap)\n",
    "    plt.title(title)\n",
    "    plt.colorbar()\n",
    "    tick_marks = np.arange(len(classes))\n",
    "    plt.xticks(tick_marks, classes, rotation=45)\n",
    "    plt.yticks(tick_marks, classes)\n",
    "\n",
    "    fmt = '.2f' if normalize else 'd'\n",
    "    thresh = cm.max() / 2.\n",
    "    for i, j in itertools.product(range(cm.shape[0]), range(cm.shape[1])):\n",
    "        plt.text(j, i, format(cm[i, j], fmt),\n",
    "                 horizontalalignment=\"center\",\n",
    "                 color=\"white\" if cm[i, j] > thresh else \"black\")\n",
    "\n",
    "    plt.tight_layout()\n",
    "    plt.ylabel('True label')\n",
    "    plt.xlabel('Predicted label')\n",
    "\n",
    "\n",
    "\n",
    "yTrue5 = dff5.select(\"_1\").toPandas()\n",
    "yPred5 = dff5.select('_2').toPandas()\n",
    "cnfMatrix5 = confusion_matrix(yTrue5, yPred5)\n",
    "plot_confusion_matrix(cnfMatrix5,'12345',normalize=False,title='Confusion matrix',cmap=plt.cm.Blues)"
   ]
  },
  {
   "cell_type": "code",
   "execution_count": 9,
   "metadata": {},
   "outputs": [
    {
     "data": {
      "text/plain": [
       "array([[<matplotlib.axes._subplots.AxesSubplot object at 0x7f27f148b4e0>]],\n",
       "      dtype=object)"
      ]
     },
     "execution_count": 9,
     "metadata": {},
     "output_type": "execute_result"
    }
   ],
   "source": [
    "#balancing 3 - bins data\n",
    "actual_number_1 =bucketedData.filter('bucketedFeatures == 1').count()\n",
    "actual_number_2 =bucketedData.filter('bucketedFeatures == 2').count()\n",
    "dfa_1_new = bucketedData.filter('bucketedFeatures == 1').sample(True,actual_number_2/actual_number_1,1234)\n",
    "dfa_0_new = bucketedData.filter('bucketedFeatures == 0')\n",
    "dfa_2_new = bucketedData.filter('bucketedFeatures == 2')\n",
    "bucketedData_merge= dfa_1_new.union(dfa_0_new).union(dfa_2_new)\n",
    "bucketedData_merge.select('bucketedFeatures') .toPandas().hist()"
   ]
  },
  {
   "cell_type": "code",
   "execution_count": 10,
   "metadata": {},
   "outputs": [],
   "source": [
    "featureCols =bucketedData_merge.columns\n",
    "featureCols.remove('bucketedFeatures')"
   ]
  },
  {
   "cell_type": "code",
   "execution_count": 11,
   "metadata": {},
   "outputs": [
    {
     "name": "stdout",
     "output_type": "stream",
     "text": [
      "Number of training set rows: 80727\n",
      "Number of test set rows: 34461\n"
     ]
    }
   ],
   "source": [
    "#3 classes prediciton model using RDD\n",
    "from pyspark.mllib.linalg import Vectors\n",
    "from pyspark.mllib.regression import LabeledPoint\n",
    "\n",
    "transformed_df = bucketedData_merge.rdd.map(lambda row: LabeledPoint(row[-1], Vectors.dense(row[0:-1])))\n",
    "\n",
    "splits = [0.7, 0.3]\n",
    "training_data, test_data = transformed_df.randomSplit(splits, 1234)\n",
    "\n",
    "print(\"Number of training set rows: %d\" % training_data.count())\n",
    "print(\"Number of test set rows: %d\" % test_data.count())"
   ]
  },
  {
   "cell_type": "code",
   "execution_count": 12,
   "metadata": {},
   "outputs": [
    {
     "name": "stdout",
     "output_type": "stream",
     "text": [
      "Time to train model: 3145.311 seconds\n"
     ]
    }
   ],
   "source": [
    "from pyspark.mllib.tree import RandomForest\n",
    "from time import *\n",
    "\n",
    "start_time = time()\n",
    "\n",
    "model = RandomForest.trainClassifier(training_data,numClasses= 3 ,categoricalFeaturesInfo={}, \\\n",
    "    numTrees=20, featureSubsetStrategy=\"auto\", maxDepth=15, seed=1234)\n",
    "\n",
    "end_time = time()\n",
    "elapsed_time = end_time - start_time\n",
    "print(\"Time to train model: %.3f seconds\" % elapsed_time)"
   ]
  },
  {
   "cell_type": "code",
   "execution_count": 13,
   "metadata": {},
   "outputs": [],
   "source": [
    "predictions = model.predict(test_data.map(lambda x: x.features))\n",
    "labels_and_predictions = test_data.map(lambda x: x.label).zip(predictions)\n"
   ]
  },
  {
   "cell_type": "code",
   "execution_count": 14,
   "metadata": {},
   "outputs": [
    {
     "name": "stdout",
     "output_type": "stream",
     "text": [
      "Model accuracy: 50.840%\n"
     ]
    }
   ],
   "source": [
    "acc = labels_and_predictions.filter(lambda x: x[0] == x[1]).count() / float(test_data.count())\n",
    "print(\"Model accuracy: %.3f%%\" % (acc * 100))"
   ]
  },
  {
   "cell_type": "code",
   "execution_count": 15,
   "metadata": {},
   "outputs": [],
   "source": [
    "dff= labels_and_predictions.toDF()"
   ]
  },
  {
   "cell_type": "code",
   "execution_count": 16,
   "metadata": {},
   "outputs": [
    {
     "name": "stdout",
     "output_type": "stream",
     "text": [
      "Confusion matrix, without normalization\n",
      "[[4778 2848 3790]\n",
      " [1278 6574 3734]\n",
      " [1715 3576 6168]]\n"
     ]
    },
    {
     "data": {
      "image/png": "[encoded data removed]",
      "text/plain": [
       "<Figure size 432x288 with 2 Axes>"
      ]
     },
     "metadata": {
      "needs_background": "light"
     },
     "output_type": "display_data"
    }
   ],
   "source": [
    "\n",
    "\n",
    "yTrue = dff.select(\"_1\").toPandas()\n",
    "yPred = dff.select('_2').toPandas()\n",
    "cnfMatrix = confusion_matrix(yTrue, yPred)\n",
    "plot_confusion_matrix(cnfMatrix,'123',normalize=False,title='Confusion matrix',cmap=plt.cm.Blues)"
   ]
  },
  {
   "cell_type": "code",
   "execution_count": 17,
   "metadata": {},
   "outputs": [
    {
     "name": "stdout",
     "output_type": "stream",
     "text": [
      "Normalized confusion matrix\n",
      "[[0.41853539 0.24947442 0.33199019]\n",
      " [0.11030554 0.56740894 0.32228552]\n",
      " [0.14966402 0.31206912 0.53826686]]\n"
     ]
    },
    {
     "data": {
      "image/png": "[encoded data removed]",
      "text/plain": [
       "<Figure size 432x288 with 2 Axes>"
      ]
     },
     "metadata": {
      "needs_background": "light"
     },
     "output_type": "display_data"
    }
   ],
   "source": [
    "plot_confusion_matrix(cnfMatrix,'123',normalize=True,title='Confusion matrix',cmap=plt.cm.Blues)"
   ]
  },
  {
   "cell_type": "code",
   "execution_count": 12,
   "metadata": {},
   "outputs": [
    {
     "name": "stdout",
     "output_type": "stream",
     "text": [
      "+--------------------+----------------+-----------------------+\n",
      "|            features|bucketedFeatures|bucketedFeaturesIndexed|\n",
      "+--------------------+----------------+-----------------------+\n",
      "|(65,[0,1,2,3,4,5,...|             1.0|                    0.0|\n",
      "|(65,[0,1,2,3,4,5,...|             1.0|                    0.0|\n",
      "|(65,[0,1,2,3,4,5,...|             1.0|                    0.0|\n",
      "|(65,[0,1,2,3,4,5,...|             1.0|                    0.0|\n",
      "|(65,[0,1,2,3,4,5,...|             1.0|                    0.0|\n",
      "+--------------------+----------------+-----------------------+\n",
      "only showing top 5 rows\n",
      "\n"
     ]
    }
   ],
   "source": [
    "#3 class prediction model using RandomForestClassifier\n",
    "from pyspark.ml.feature import VectorAssembler\n",
    "from pyspark.ml.feature import StringIndexer\n",
    "labelCol = \"bucketedFeatures\"\n",
    "indexedCol = '{}Indexed'.format(labelCol)\n",
    "indexedDf = StringIndexer(inputCol=labelCol, outputCol=indexedCol).fit(bucketedData_merge).transform(bucketedData_merge)\n",
    "\n",
    "assembler = VectorAssembler(inputCols=featureCols, outputCol=\"features\")# handleInvalid=\"skip\")\n",
    "data = assembler.transform(indexedDf)[['features', labelCol, indexedCol]]\n",
    "trainDf1, testDf1 = data.randomSplit([0.75, 0.25], seed=1234)\n",
    "trainDf1.show(5)\n"
   ]
  },
  {
   "cell_type": "code",
   "execution_count": 44,
   "metadata": {},
   "outputs": [],
   "source": [
    "from pyspark.ml.classification import RandomForestClassifier\n",
    "rf = RandomForestClassifier(featuresCol = 'features', labelCol = 'bucketedFeatures',numTrees=20)\n",
    "rfModel = rf.fit(trainDf1)"
   ]
  },
  {
   "cell_type": "code",
   "execution_count": 45,
   "metadata": {},
   "outputs": [
    {
     "name": "stdout",
     "output_type": "stream",
     "text": [
      "Test Acc = 0.407072 \n"
     ]
    }
   ],
   "source": [
    "from pyspark.ml.evaluation import MulticlassClassificationEvaluator\n",
    "predrf = rfModel.transform(testDf1)\n",
    "evaluator = MulticlassClassificationEvaluator(\n",
    "    labelCol='bucketedFeatures', predictionCol=\"prediction\", metricName=\"accuracy\")\n",
    "accuracy = evaluator.evaluate(predrf)\n",
    "print(\"Test Acc = %g \" % (accuracy))\n"
   ]
  },
  {
   "cell_type": "code",
   "execution_count": 47,
   "metadata": {},
   "outputs": [
    {
     "name": "stdout",
     "output_type": "stream",
     "text": [
      "Confusion matrix, without normalization\n",
      "[[3380 3186 2924]\n",
      " [1945 3923 3844]\n",
      " [1785 3419 4439]]\n"
     ]
    },
    {
     "data": {
      "image/png": "[encoded data removed]",
      "text/plain": [
       "<Figure size 576x396 with 2 Axes>"
      ]
     },
     "metadata": {},
     "output_type": "display_data"
    }
   ],
   "source": [
    "from sklearn.metrics import confusion_matrix\n",
    "\n",
    "labelCol = \"bucketedFeatures\"\n",
    "classes = predrf.select(labelCol).groupBy(labelCol)\\\n",
    "                        .count().sort('count', ascending=False).toPandas()\n",
    "classLabels = classes[labelCol].values.tolist()\n",
    "\n",
    "\n",
    "\n",
    "yTrue = predrf.select(\"bucketedFeatures\").toPandas()\n",
    "yPred = predrf.select('prediction').toPandas()\n",
    "cnfMatrix = confusion_matrix(yTrue, yPred)\n",
    "plot_confusion_matrix(cnfMatrix,'12',normalize=False,title='Confusion matrix',cmap=plt.cm.Blues)"
   ]
  },
  {
   "cell_type": "code",
   "execution_count": 48,
   "metadata": {},
   "outputs": [
    {
     "name": "stdout",
     "output_type": "stream",
     "text": [
      "Normalized confusion matrix\n",
      "[[0.35616438 0.33572181 0.3081138 ]\n",
      " [0.20026771 0.40393328 0.39579901]\n",
      " [0.18510837 0.35455771 0.46033392]]\n"
     ]
    },
    {
     "data": {
      "image/png": "[encoded data removed]",
      "text/plain": [
       "<Figure size 576x396 with 2 Axes>"
      ]
     },
     "metadata": {},
     "output_type": "display_data"
    }
   ],
   "source": [
    "plot_confusion_matrix(cnfMatrix,'12',normalize=True,title='Confusion matrix',cmap=plt.cm.Blues)"
   ]
  },
  {
   "cell_type": "code",
   "execution_count": 39,
   "metadata": {},
   "outputs": [
    {
     "name": "stdout",
     "output_type": "stream",
     "text": [
      "DecisionTreeClassificationModel (uid=DecisionTreeClassifier_4fc982a206895212929f) of depth 20 with 15085 nodes\n"
     ]
    }
   ],
   "source": [
    "from pyspark.ml.classification import DecisionTreeClassifier\n",
    "\n",
    "treeModel = DecisionTreeClassifier(labelCol='bucketedFeatures', featuresCol= 'features',maxDepth=20)\n",
    "\n",
    "# Fit the model\n",
    "modelTuning = treeModel.fit(trainDf1)\n",
    "print(modelTuning)"
   ]
  },
  {
   "cell_type": "code",
   "execution_count": 40,
   "metadata": {},
   "outputs": [
    {
     "name": "stdout",
     "output_type": "stream",
     "text": [
      "Test Acc = 0.642919 \n"
     ]
    }
   ],
   "source": [
    "from pyspark.ml.evaluation import MulticlassClassificationEvaluator\n",
    "predDf = modelNoTuning.transform(testDf1)\n",
    "\n",
    "evaluator = MulticlassClassificationEvaluator(\n",
    "    labelCol='bucketedFeatures', predictionCol=\"prediction\", metricName=\"accuracy\")\n",
    "accuracy = evaluator.evaluate(predDf)\n",
    "print(\"Test Acc = %g \" % (accuracy))\n",
    "\n"
   ]
  },
  {
   "cell_type": "code",
   "execution_count": 28,
   "metadata": {},
   "outputs": [
    {
     "data": {
      "text/plain": [
       "SparseVector(65, {0: 0.1391, 1: 0.1467, 2: 0.0929, 3: 0.0875, 4: 0.1064, 5: 0.0888, 6: 0.0858, 7: 0.074, 8: 0.0008, 9: 0.0002, 11: 0.0005, 12: 0.0332, 15: 0.007, 16: 0.0013, 17: 0.002, 18: 0.0009, 19: 0.0003, 20: 0.0048, 21: 0.0014, 22: 0.0026, 23: 0.0125, 24: 0.0052, 25: 0.0023, 26: 0.0082, 27: 0.0021, 28: 0.0018, 29: 0.0106, 30: 0.0034, 31: 0.0091, 32: 0.0011, 33: 0.0034, 34: 0.0038, 35: 0.0013, 36: 0.0064, 37: 0.0023, 38: 0.0006, 39: 0.0056, 40: 0.0084, 41: 0.0006, 42: 0.0036, 43: 0.0004, 46: 0.0006, 47: 0.0005, 48: 0.0078, 49: 0.0003, 50: 0.0001, 51: 0.0017, 52: 0.0001, 53: 0.0049, 55: 0.0005, 56: 0.0001, 57: 0.0005, 58: 0.0003, 60: 0.0044, 61: 0.0005, 63: 0.0021, 64: 0.0064})"
      ]
     },
     "execution_count": 28,
     "metadata": {},
     "output_type": "execute_result"
    }
   ],
   "source": [
    "modelTuning.featureImportances"
   ]
  },
  {
   "cell_type": "code",
   "execution_count": 41,
   "metadata": {},
   "outputs": [
    {
     "name": "stdout",
     "output_type": "stream",
     "text": [
      "Confusion matrix, without normalization\n",
      "[[6067 1780 1643]\n",
      " [ 675 7516 1521]\n",
      " [1880 2801 4962]]\n"
     ]
    },
    {
     "data": {
      "image/png": "[encoded data removed]",
      "text/plain": [
       "<Figure size 576x396 with 2 Axes>"
      ]
     },
     "metadata": {},
     "output_type": "display_data"
    }
   ],
   "source": [
    "from sklearn.metrics import confusion_matrix\n",
    "\n",
    "labelCol = \"bucketedFeatures\"\n",
    "classes = predDf.select(labelCol).groupBy(labelCol)\\\n",
    "                        .count().sort('count', ascending=False).toPandas()\n",
    "classLabels = classes[labelCol].values.tolist()\n",
    "\n",
    "\n",
    "\n",
    "yTrue = predDf.select(\"bucketedFeatures\").toPandas()\n",
    "yPred = predDf.select('prediction').toPandas()\n",
    "cnfMatrix = confusion_matrix(yTrue, yPred)\n",
    "plot_confusion_matrix(cnfMatrix,'12',normalize=False,title='Confusion matrix',cmap=plt.cm.Blues)"
   ]
  },
  {
   "cell_type": "code",
   "execution_count": 42,
   "metadata": {},
   "outputs": [
    {
     "name": "stdout",
     "output_type": "stream",
     "text": [
      "Normalized confusion matrix\n",
      "[[0.63930453 0.18756586 0.17312961]\n",
      " [0.06950165 0.77388797 0.15661038]\n",
      " [0.19496007 0.29046977 0.51457015]]\n"
     ]
    },
    {
     "data": {
      "image/png": "[encoded data removed]",
      "text/plain": [
       "<Figure size 576x396 with 2 Axes>"
      ]
     },
     "metadata": {},
     "output_type": "display_data"
    }
   ],
   "source": [
    "plot_confusion_matrix(cnfMatrix,'12',normalize=True,title='Confusion matrix',cmap=plt.cm.Blues)"
   ]
  }
 ],
 "metadata": {
  "kernelspec": {
   "display_name": "Python 3",
   "language": "python",
   "name": "python3"
  },
  "language_info": {
   "codemirror_mode": {
    "name": "ipython",
    "version": 3
   },
   "file_extension": ".py",
   "mimetype": "text/x-python",
   "name": "python",
   "nbconvert_exporter": "python",
   "pygments_lexer": "ipython3",
   "version": "3.6.7"
  }
 },
 "nbformat": 4,
 "nbformat_minor": 2
}
